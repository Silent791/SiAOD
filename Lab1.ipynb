{
 "cells": [
  {
   "cell_type": "markdown",
   "id": "fifteen-sailing",
   "metadata": {},
   "source": [
    "# Лабораторная работа №1\n",
    "## Выполнил студент группы БВТ2005 Голубков Антон Юрьевич"
   ]
  },
  {
   "cell_type": "markdown",
   "id": "particular-syndicate",
   "metadata": {},
   "source": [
    "### Оглавление\n",
    "1. [Задание 1](#Задание-№1)\n",
    "2. [Задание 2](#Задание-№2)\n",
    "3. [Задание 3](#Задание-№3)\n",
    "4. [Вывод](#Вывод)"
   ]
  },
  {
   "cell_type": "markdown",
   "id": "arctic-stocks",
   "metadata": {},
   "source": [
    "### Задание №1\n",
    "<i> Вызвать функцию print() и передать туда строку Hello, World! </i>"
   ]
  },
  {
   "cell_type": "code",
   "execution_count": null,
   "id": "caring-truck",
   "metadata": {
    "scrolled": true
   },
   "outputs": [],
   "source": [
    "print('Hello, World!')"
   ]
  },
  {
   "cell_type": "markdown",
   "id": "maritime-conversation",
   "metadata": {},
   "source": [
    "### Задание №2\n",
    "Написать генератор случайных матриц(многомерных), который принимает\n",
    "опциональные параметры <b>m</b>, <b>n</b>, <b>min_limit</b>, <b>max_limit</b>, где <b>m</b> и <b>n</b> указывают размер\n",
    "матрицы, а <b>min_lim</b> и <b>max_lim</b> - минимальное и максимальное значение для\n",
    "генерируемого числа."
   ]
  },
  {
   "cell_type": "code",
   "execution_count": null,
   "id": "built-contact",
   "metadata": {},
   "outputs": [],
   "source": [
    "import random\n",
    "import time\n",
    "from random import randint"
   ]
  },
  {
   "cell_type": "code",
   "execution_count": 1,
   "id": "alert-charm",
   "metadata": {},
   "outputs": [
    {
     "name": "stdout",
     "output_type": "stream",
     "text": [
      "20\n",
      "10\n",
      "1\n",
      "100\n",
      "\n",
      "18 45 20 93 96 84 82 33 92 73 \n",
      "91 87 82 71 97 50 23 100 55 6 \n",
      "48 44 47 17 3 80 24 34 29 29 \n",
      "38 24 76 82 71 37 92 32 95 6 \n",
      "38 19 11 58 30 36 80 39 32 29 \n",
      "6 57 10 90 49 75 82 16 17 16 \n",
      "6 54 57 18 46 75 94 30 13 30 \n",
      "46 82 51 42 36 33 69 48 22 19 \n",
      "86 80 19 1 44 14 9 91 80 56 \n",
      "43 58 15 67 62 94 23 70 11 88 \n",
      "27 33 11 47 15 95 71 29 73 10 \n",
      "15 30 56 84 74 98 65 72 70 29 \n",
      "79 70 79 63 58 82 34 10 3 51 \n",
      "61 34 5 24 48 81 47 80 53 60 \n",
      "95 10 57 75 41 14 95 32 42 6 \n",
      "35 49 51 10 15 27 7 34 88 8 \n",
      "69 53 50 56 8 53 23 78 18 10 \n",
      "58 73 82 80 67 30 10 12 68 38 \n",
      "97 7 15 34 35 28 49 84 98 23 \n",
      "36 67 90 35 83 58 6 55 43 45 \n"
     ]
    }
   ],
   "source": [
    "import random\n",
    "import time\n",
    "from random import randint\n",
    "user_m = input()\n",
    "user_n = input()\n",
    "user_min_limit = input()\n",
    "user_max_limit = input()\n",
    "user_m, user_n, user_min_limit, user_max_limit\n",
    "print()\n",
    "\n",
    "\n",
    "def mgenerate(m, n, min_l, max_l):\n",
    "    mat = [] \n",
    "    for i in range (int(m)): \n",
    "        row=[]\n",
    "        for j in range (int(n)):\n",
    "            randNumber = random.randint(int(min_l), int(max_l))\n",
    "            row.append (randNumber)\n",
    "        mat.append(row)\n",
    "    return mat\n",
    "def mprint(mat):    \n",
    "    for i in range(0, len(mat)):\n",
    "        for j in range(0, len(mat[i])):\n",
    "            print(mat[i][j], end=' ')\n",
    "        print()\n",
    "mat=mgenerate(user_m, user_n, user_min_limit, user_max_limit)\n",
    "mprint(mat)"
   ]
  },
  {
   "cell_type": "markdown",
   "id": "catholic-roots",
   "metadata": {},
   "source": [
    "### Задание №3\n",
    "Реализовать методы сортировки строк числовой матрицы в соответствии с\n",
    "заданием. Оценить время работы каждого алгоритма сортировки и сравнить его со\n",
    "временем стандартной функции сортировки. Испытания проводить на сгенерированных\n",
    "матрицах."
   ]
  },
  {
   "cell_type": "code",
   "execution_count": 2,
   "id": "opposed-creature",
   "metadata": {},
   "outputs": [],
   "source": [
    "import copy"
   ]
  },
  {
   "cell_type": "code",
   "execution_count": 3,
   "id": "cleared-anniversary",
   "metadata": {},
   "outputs": [
    {
     "name": "stdout",
     "output_type": "stream",
     "text": [
      "18 20 33 45 73 82 84 92 93 96 \n",
      "6 23 50 55 71 82 87 91 97 100 \n",
      "3 17 24 29 29 34 44 47 48 80 \n",
      "6 24 32 37 38 71 76 82 92 95 \n",
      "11 19 29 30 32 36 38 39 58 80 \n",
      "6 10 16 16 17 49 57 75 82 90 \n",
      "6 13 18 30 30 46 54 57 75 94 \n",
      "19 22 33 36 42 46 48 51 69 82 \n",
      "1 9 14 19 44 56 80 80 86 91 \n",
      "11 15 23 43 58 62 67 70 88 94 \n",
      "10 11 15 27 29 33 47 71 73 95 \n",
      "15 29 30 56 65 70 72 74 84 98 \n",
      "3 10 34 51 58 63 70 79 79 82 \n",
      "5 24 34 47 48 53 60 61 80 81 \n",
      "6 10 14 32 41 42 57 75 95 95 \n",
      "7 8 10 15 27 34 35 49 51 88 \n",
      "8 10 18 23 50 53 53 56 69 78 \n",
      "10 12 30 38 58 67 68 73 80 82 \n",
      "7 15 23 28 34 35 49 84 97 98 \n",
      "6 35 36 43 45 55 58 67 83 90 \n",
      "--- 8 ms ---\n"
     ]
    }
   ],
   "source": [
    "# Сортировка выбором.\n",
    "# Берётся срез массива, в котором минимальный элемент переносят в самый левый угол,\n",
    "# после чего срез уменьшается и цикл повторяется.\n",
    "start_time = time.time()\n",
    "M = copy.deepcopy(mat)\n",
    "def sort1(row):\n",
    "    for i in range(len(row) - 1):\n",
    "        m = i\n",
    "        j = i + 1\n",
    "        while j < len(row):\n",
    "            if row[j] < row[m]:\n",
    "                m = j\n",
    "            j = j + 1\n",
    "        row[i], row[m] = row[m], row[i]\n",
    "for row in M:\n",
    "    row = sort1(row)\n",
    "mprint(M)\n",
    "print(\"--- {0} ms ---\".format(round((time.time() - start_time)*1000)))"
   ]
  },
  {
   "cell_type": "code",
   "execution_count": 4,
   "id": "roman-silly",
   "metadata": {
    "scrolled": true
   },
   "outputs": [
    {
     "name": "stdout",
     "output_type": "stream",
     "text": [
      "18 20 33 45 73 82 84 92 93 96 \n",
      "6 23 50 55 71 82 87 91 97 100 \n",
      "3 17 24 29 29 34 44 47 48 80 \n",
      "6 24 32 37 38 71 76 82 92 95 \n",
      "11 19 29 30 32 36 38 39 58 80 \n",
      "6 10 16 16 17 49 57 75 82 90 \n",
      "6 13 18 30 30 46 54 57 75 94 \n",
      "19 22 33 36 42 46 48 51 69 82 \n",
      "1 9 14 19 44 56 80 80 86 91 \n",
      "11 15 23 43 58 62 67 70 88 94 \n",
      "10 11 15 27 29 33 47 71 73 95 \n",
      "15 29 30 56 65 70 72 74 84 98 \n",
      "3 10 34 51 58 63 70 79 79 82 \n",
      "5 24 34 47 48 53 60 61 80 81 \n",
      "6 10 14 32 41 42 57 75 95 95 \n",
      "7 8 10 15 27 34 35 49 51 88 \n",
      "8 10 18 23 50 53 53 56 69 78 \n",
      "10 12 30 38 58 67 68 73 80 82 \n",
      "7 15 23 28 34 35 49 84 97 98 \n",
      "6 35 36 43 45 55 58 67 83 90 \n",
      "--- 7 ms ---\n"
     ]
    }
   ],
   "source": [
    "# Сортировка вставкой.\n",
    "start_time = time.time()\n",
    "M = copy.deepcopy(mat)\n",
    "def sort2(row):\n",
    "    for i in range(len(row)):\n",
    "        cursor = row[i]\n",
    "        pos = i\n",
    "        while pos > 0 and row[pos - 1] > cursor:\n",
    "            row[pos] = row[pos - 1]\n",
    "            pos = pos - 1\n",
    "        row[pos] = cursor\n",
    "    return row\n",
    "for row in M:\n",
    "    row = sort2(row)\n",
    "mprint(M)\n",
    "print(\"--- {0} ms ---\".format(round((time.time() - start_time)*1000)))"
   ]
  },
  {
   "cell_type": "code",
   "execution_count": 6,
   "id": "vital-implementation",
   "metadata": {},
   "outputs": [
    {
     "name": "stdout",
     "output_type": "stream",
     "text": [
      "--- 0 ms ---\n"
     ]
    }
   ],
   "source": [
    "# Сортировка обменом. || Сортировка пузырьком.\n",
    "start_time = time.time()\n",
    "#TODO\n",
    "print(\"--- {0} ms ---\".format(round((time.time() - start_time)*1000)))"
   ]
  },
  {
   "cell_type": "code",
   "execution_count": 7,
   "id": "veterinary-glory",
   "metadata": {},
   "outputs": [
    {
     "name": "stdout",
     "output_type": "stream",
     "text": [
      "--- 0 ms ---\n"
     ]
    }
   ],
   "source": [
    "# Сортировка Шелла.\n",
    "start_time = time.time()\n",
    "#TODO\n",
    "print(\"--- {0} ms ---\".format(round((time.time() - start_time)*1000)))"
   ]
  },
  {
   "cell_type": "code",
   "execution_count": 8,
   "id": "correct-chaos",
   "metadata": {},
   "outputs": [
    {
     "name": "stdout",
     "output_type": "stream",
     "text": [
      "--- 1 ms ---\n"
     ]
    }
   ],
   "source": [
    "# Быстрая сортировка.\n",
    "start_time = time.time()\n",
    "#TODO\n",
    "print(\"--- {0} ms ---\".format(round((time.time() - start_time)*1000)))\n",
    "    "
   ]
  },
  {
   "cell_type": "code",
   "execution_count": 24,
   "id": "french-czech",
   "metadata": {},
   "outputs": [
    {
     "name": "stdout",
     "output_type": "stream",
     "text": [
      "--- 0 ms ---\n"
     ]
    }
   ],
   "source": [
    "# Турнирная сортировка.\n",
    "start_time = time.time()\n",
    "#TODO\n",
    "print(\"--- {0} ms ---\".format(round((time.time() - start_time)*1000)))"
   ]
  },
  {
   "cell_type": "markdown",
   "id": "rental-jerusalem",
   "metadata": {},
   "source": [
    "### Вывод\n"
   ]
  },
  {
   "cell_type": "code",
   "execution_count": null,
   "id": "19e7f6a9",
   "metadata": {},
   "outputs": [],
   "source": []
  }
 ],
 "metadata": {
  "kernelspec": {
   "display_name": "Python 3 (ipykernel)",
   "language": "python",
   "name": "python3"
  },
  "language_info": {
   "codemirror_mode": {
    "name": "ipython",
    "version": 3
   },
   "file_extension": ".py",
   "mimetype": "text/x-python",
   "name": "python",
   "nbconvert_exporter": "python",
   "pygments_lexer": "ipython3",
   "version": "3.9.7"
  }
 },
 "nbformat": 4,
 "nbformat_minor": 5
}
