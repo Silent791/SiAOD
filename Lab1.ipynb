{
 "cells": [
  {
   "cell_type": "markdown",
   "id": "fifteen-sailing",
   "metadata": {},
   "source": [
    "# Лабораторная работа №1\n",
    "## Выполнил студент группы БВТ2005 Голубков Антон Юрьевич"
   ]
  },
  {
   "cell_type": "markdown",
   "id": "particular-syndicate",
   "metadata": {},
   "source": [
    "### Оглавление\n",
    "1. [Задание 1](#Задание-№1)\n",
    "2. [Задание 2](#Задание-№2)\n",
    "3. [Задание 3](#Задание-№3)\n",
    "4. [Вывод](#Вывод)"
   ]
  },
  {
   "cell_type": "markdown",
   "id": "arctic-stocks",
   "metadata": {},
   "source": [
    "### Задание №1\n",
    "<i> Вызвать функцию print() и передать туда строку Hello, World! </i>"
   ]
  },
  {
   "cell_type": "code",
   "execution_count": 1,
   "id": "caring-truck",
   "metadata": {
    "scrolled": true
   },
   "outputs": [
    {
     "name": "stdout",
     "output_type": "stream",
     "text": [
      "Hello, World!\n"
     ]
    }
   ],
   "source": [
    "print('Hello, World!')"
   ]
  },
  {
   "cell_type": "markdown",
   "id": "maritime-conversation",
   "metadata": {},
   "source": [
    "### Задание №2\n",
    "Написать генератор случайных матриц(многомерных), который принимает\n",
    "опциональные параметры <b>m</b>, <b>n</b>, <b>min_limit</b>, <b>max_limit</b>, где <b>m</b> и <b>n</b> указывают размер\n",
    "матрицы, а <b>min_lim</b> и <b>max_lim</b> - минимальное и максимальное значение для\n",
    "генерируемого числа."
   ]
  },
  {
   "cell_type": "code",
   "execution_count": 2,
   "id": "built-contact",
   "metadata": {},
   "outputs": [],
   "source": [
    "import random\n",
    "import time\n",
    "from random import randint"
   ]
  },
  {
   "cell_type": "code",
   "execution_count": 3,
   "id": "alert-charm",
   "metadata": {},
   "outputs": [
    {
     "name": "stdout",
     "output_type": "stream",
     "text": [
      "20\n",
      "20\n",
      "1\n",
      "9\n",
      "\n",
      "7 1 5 3 4 3 7 6 3 6 9 3 3 8 1 5 2 2 9 1 \n",
      "6 5 6 7 1 1 3 9 7 7 3 3 5 3 1 7 9 8 5 2 \n",
      "7 8 8 9 6 3 3 9 5 8 2 5 6 2 5 3 7 2 6 2 \n",
      "1 3 9 9 9 8 8 4 4 1 2 8 6 7 9 8 5 6 2 7 \n",
      "1 1 5 3 5 7 1 1 2 4 3 7 1 3 5 6 4 2 2 2 \n",
      "5 9 7 5 3 3 1 2 6 2 8 5 4 7 2 5 2 6 3 9 \n",
      "4 7 5 4 8 5 6 3 6 2 4 7 1 3 9 8 6 4 1 9 \n",
      "2 4 5 4 1 6 7 7 2 2 5 1 7 2 6 2 4 3 3 5 \n",
      "8 3 5 5 3 2 4 4 5 3 3 8 8 1 4 6 2 1 9 6 \n",
      "9 8 8 4 1 4 8 5 7 8 6 4 4 5 7 2 4 7 3 7 \n",
      "3 2 4 2 2 1 7 2 1 1 6 2 9 8 3 7 3 4 4 5 \n",
      "5 9 8 1 6 2 5 3 2 6 5 9 2 2 4 3 7 9 1 7 \n",
      "8 9 7 6 2 3 7 1 1 9 8 3 2 2 9 4 3 1 6 2 \n",
      "5 3 5 5 9 2 5 9 1 7 4 4 5 1 2 1 8 7 8 8 \n",
      "2 2 2 6 9 1 9 6 8 5 2 5 2 3 9 7 6 7 9 7 \n",
      "3 3 6 8 2 6 1 7 3 3 1 6 3 2 6 1 3 7 9 4 \n",
      "8 1 1 3 8 6 3 8 8 8 8 4 7 3 1 5 2 3 6 2 \n",
      "2 8 3 9 5 7 9 9 2 4 6 7 2 7 2 8 1 4 6 3 \n",
      "9 1 9 3 1 8 6 5 6 7 3 4 2 8 6 2 6 3 7 3 \n",
      "8 1 3 9 3 9 8 2 1 3 4 3 8 8 7 3 9 7 3 2 \n"
     ]
    }
   ],
   "source": [
    "import random\n",
    "import time\n",
    "from random import randint\n",
    "user_m = input()\n",
    "user_n = input()\n",
    "user_min_limit = input()\n",
    "user_max_limit = input()\n",
    "user_m, user_n, user_min_limit, user_max_limit\n",
    "print()\n",
    "\n",
    "\n",
    "def mgenerate(m, n, min_l, max_l):\n",
    "    mat = [] \n",
    "    for i in range (int(m)): \n",
    "        row=[]\n",
    "        for j in range (int(n)):\n",
    "            randNumber = random.randint(int(min_l), int(max_l))\n",
    "            row.append (randNumber)\n",
    "        mat.append(row)\n",
    "    return mat\n",
    "def mprint(mat):    \n",
    "    for i in range(0, len(mat)):\n",
    "        for j in range(0, len(mat[i])):\n",
    "            print(mat[i][j], end=' ')\n",
    "        print()\n",
    "mat=mgenerate(user_m, user_n, user_min_limit, user_max_limit)\n",
    "mprint(mat)"
   ]
  },
  {
   "cell_type": "markdown",
   "id": "catholic-roots",
   "metadata": {},
   "source": [
    "### Задание №3\n",
    "Реализовать методы сортировки строк числовой матрицы в соответствии с\n",
    "заданием. Оценить время работы каждого алгоритма сортировки и сравнить его со\n",
    "временем стандартной функции сортировки. Испытания проводить на сгенерированных\n",
    "матрицах."
   ]
  },
  {
   "cell_type": "code",
   "execution_count": 4,
   "id": "opposed-creature",
   "metadata": {},
   "outputs": [],
   "source": [
    "import copy"
   ]
  },
  {
   "cell_type": "code",
   "execution_count": 32,
   "id": "cleared-anniversary",
   "metadata": {},
   "outputs": [
    {
     "name": "stdout",
     "output_type": "stream",
     "text": [
      "1 1 1 2 2 3 3 3 3 3 4 5 5 6 6 7 7 8 9 9 \n",
      "1 1 1 2 3 3 3 3 5 5 5 6 6 7 7 7 7 8 9 9 \n",
      "2 2 2 2 3 3 3 5 5 5 6 6 6 7 7 8 8 8 9 9 \n",
      "1 1 2 2 3 4 4 5 6 6 7 7 8 8 8 8 9 9 9 9 \n",
      "1 1 1 1 1 2 2 2 2 3 3 3 4 4 5 5 5 6 7 7 \n",
      "1 2 2 2 2 3 3 3 4 5 5 5 5 6 6 7 7 8 9 9 \n",
      "1 1 2 3 3 4 4 4 4 5 5 6 6 6 7 7 8 8 9 9 \n",
      "1 1 2 2 2 2 2 3 3 4 4 4 5 5 5 6 6 7 7 7 \n",
      "1 1 2 2 3 3 3 3 4 4 4 5 5 5 6 6 8 8 8 9 \n",
      "1 2 3 4 4 4 4 4 5 5 6 7 7 7 7 8 8 8 8 9 \n",
      "1 1 1 2 2 2 2 2 3 3 3 4 4 4 5 6 7 7 8 9 \n",
      "1 1 2 2 2 2 3 3 4 5 5 5 6 6 7 7 8 9 9 9 \n",
      "1 1 1 2 2 2 2 3 3 3 4 6 6 7 7 8 8 9 9 9 \n",
      "1 1 1 2 2 3 4 4 5 5 5 5 5 7 7 8 8 8 9 9 \n",
      "1 2 2 2 2 2 3 5 5 6 6 6 7 7 7 8 9 9 9 9 \n",
      "1 1 1 2 2 3 3 3 3 3 3 4 6 6 6 6 7 7 8 9 \n",
      "1 1 1 2 2 3 3 3 3 4 5 6 6 7 8 8 8 8 8 8 \n",
      "1 2 2 2 2 3 3 4 4 5 6 6 7 7 7 8 8 9 9 9 \n",
      "1 1 2 2 3 3 3 3 4 5 6 6 6 6 7 7 8 8 9 9 \n",
      "1 1 2 2 3 3 3 3 3 3 4 7 7 8 8 8 8 9 9 9 \n",
      "--- 17 ms ---\n"
     ]
    }
   ],
   "source": [
    "# Сортировка выбором.\n",
    "# Берётся срез массива, в котором минимальный элемент переносят в самый левый угол,\n",
    "# после чего срез уменьшается и цикл повторяется.\n",
    "start_time = time.time()\n",
    "M = copy.deepcopy(mat)\n",
    "def choice_sort(row):\n",
    "    for i in range(len(row) - 1):\n",
    "        m = i\n",
    "        j = i + 1\n",
    "        while j < len(row):\n",
    "            if row[j] < row[m]:\n",
    "                m = j\n",
    "            j = j + 1\n",
    "        row[i], row[m] = row[m], row[i]\n",
    "for row in M:\n",
    "    row = choice_sort(row)\n",
    "mprint(M)\n",
    "choice_sort_time = round((time.time() - start_time)*1000)\n",
    "print(\"--- {0} ms ---\".format(choice_sort_time))"
   ]
  },
  {
   "cell_type": "code",
   "execution_count": 33,
   "id": "roman-silly",
   "metadata": {
    "scrolled": true
   },
   "outputs": [
    {
     "name": "stdout",
     "output_type": "stream",
     "text": [
      "1 1 1 2 2 3 3 3 3 3 4 5 5 6 6 7 7 8 9 9 \n",
      "1 1 1 2 3 3 3 3 5 5 5 6 6 7 7 7 7 8 9 9 \n",
      "2 2 2 2 3 3 3 5 5 5 6 6 6 7 7 8 8 8 9 9 \n",
      "1 1 2 2 3 4 4 5 6 6 7 7 8 8 8 8 9 9 9 9 \n",
      "1 1 1 1 1 2 2 2 2 3 3 3 4 4 5 5 5 6 7 7 \n",
      "1 2 2 2 2 3 3 3 4 5 5 5 5 6 6 7 7 8 9 9 \n",
      "1 1 2 3 3 4 4 4 4 5 5 6 6 6 7 7 8 8 9 9 \n",
      "1 1 2 2 2 2 2 3 3 4 4 4 5 5 5 6 6 7 7 7 \n",
      "1 1 2 2 3 3 3 3 4 4 4 5 5 5 6 6 8 8 8 9 \n",
      "1 2 3 4 4 4 4 4 5 5 6 7 7 7 7 8 8 8 8 9 \n",
      "1 1 1 2 2 2 2 2 3 3 3 4 4 4 5 6 7 7 8 9 \n",
      "1 1 2 2 2 2 3 3 4 5 5 5 6 6 7 7 8 9 9 9 \n",
      "1 1 1 2 2 2 2 3 3 3 4 6 6 7 7 8 8 9 9 9 \n",
      "1 1 1 2 2 3 4 4 5 5 5 5 5 7 7 8 8 8 9 9 \n",
      "1 2 2 2 2 2 3 5 5 6 6 6 7 7 7 8 9 9 9 9 \n",
      "1 1 1 2 2 3 3 3 3 3 3 4 6 6 6 6 7 7 8 9 \n",
      "1 1 1 2 2 3 3 3 3 4 5 6 6 7 8 8 8 8 8 8 \n",
      "1 2 2 2 2 3 3 4 4 5 6 6 7 7 7 8 8 9 9 9 \n",
      "1 1 2 2 3 3 3 3 4 5 6 6 6 6 7 7 8 8 9 9 \n",
      "1 1 2 2 3 3 3 3 3 3 4 7 7 8 8 8 8 9 9 9 \n",
      "--- 16 ms ---\n"
     ]
    }
   ],
   "source": [
    "# Сортировка вставкой.\n",
    "start_time = time.time()\n",
    "M = copy.deepcopy(mat)\n",
    "def insert_sort(row):\n",
    "    for i in range(len(row)):\n",
    "        cursor = row[i]\n",
    "        pos = i\n",
    "        while pos > 0 and row[pos - 1] > cursor:\n",
    "            row[pos] = row[pos - 1]\n",
    "            pos = pos - 1\n",
    "        row[pos] = cursor\n",
    "    return row\n",
    "for row in M:\n",
    "    row = insert_sort(row)\n",
    "mprint(M)\n",
    "insert_sort_time = round((time.time() - start_time)*1000)\n",
    "print(\"--- {0} ms ---\".format(insert_sort_time))"
   ]
  },
  {
   "cell_type": "code",
   "execution_count": 34,
   "id": "vital-implementation",
   "metadata": {},
   "outputs": [
    {
     "name": "stdout",
     "output_type": "stream",
     "text": [
      "1 1 1 2 2 3 3 3 3 3 4 5 5 6 6 7 7 8 9 9 \n",
      "1 1 1 2 3 3 3 3 5 5 5 6 6 7 7 7 7 8 9 9 \n",
      "2 2 2 2 3 3 3 5 5 5 6 6 6 7 7 8 8 8 9 9 \n",
      "1 1 2 2 3 4 4 5 6 6 7 7 8 8 8 8 9 9 9 9 \n",
      "1 1 1 1 1 2 2 2 2 3 3 3 4 4 5 5 5 6 7 7 \n",
      "1 2 2 2 2 3 3 3 4 5 5 5 5 6 6 7 7 8 9 9 \n",
      "1 1 2 3 3 4 4 4 4 5 5 6 6 6 7 7 8 8 9 9 \n",
      "1 1 2 2 2 2 2 3 3 4 4 4 5 5 5 6 6 7 7 7 \n",
      "1 1 2 2 3 3 3 3 4 4 4 5 5 5 6 6 8 8 8 9 \n",
      "1 2 3 4 4 4 4 4 5 5 6 7 7 7 7 8 8 8 8 9 \n",
      "1 1 1 2 2 2 2 2 3 3 3 4 4 4 5 6 7 7 8 9 \n",
      "1 1 2 2 2 2 3 3 4 5 5 5 6 6 7 7 8 9 9 9 \n",
      "1 1 1 2 2 2 2 3 3 3 4 6 6 7 7 8 8 9 9 9 \n",
      "1 1 1 2 2 3 4 4 5 5 5 5 5 7 7 8 8 8 9 9 \n",
      "1 2 2 2 2 2 3 5 5 6 6 6 7 7 7 8 9 9 9 9 \n",
      "1 1 1 2 2 3 3 3 3 3 3 4 6 6 6 6 7 7 8 9 \n",
      "1 1 1 2 2 3 3 3 3 4 5 6 6 7 8 8 8 8 8 8 \n",
      "1 2 2 2 2 3 3 4 4 5 6 6 7 7 7 8 8 9 9 9 \n",
      "1 1 2 2 3 3 3 3 4 5 6 6 6 6 7 7 8 8 9 9 \n",
      "1 1 2 2 3 3 3 3 3 3 4 7 7 8 8 8 8 9 9 9 \n",
      "--- 16 ms ---\n"
     ]
    }
   ],
   "source": [
    "# Сортировка обменом. || Сортировка пузырьком.\n",
    "start_time = time.time()\n",
    "M = copy.deepcopy(mat)\n",
    "def exch_sort(row):\n",
    "    for i in range (len(row)-1):\n",
    "        for j in range(len(row)-i-1):\n",
    "            if row[j] > row[j+1]:\n",
    "                row[j], row[j+1] = row[j+1], row[j]\n",
    "    return row\n",
    "for row in M:\n",
    "    row = exch_sort(row)\n",
    "mprint(M)\n",
    "exch_sort_time = round((time.time() - start_time)*1000)\n",
    "print(\"--- {0} ms ---\".format(exch_sort_time))"
   ]
  },
  {
   "cell_type": "code",
   "execution_count": 35,
   "id": "veterinary-glory",
   "metadata": {},
   "outputs": [
    {
     "name": "stdout",
     "output_type": "stream",
     "text": [
      "1 1 1 2 2 3 3 3 3 3 4 5 5 6 7 7 8 9 9 6 \n",
      "1 1 1 2 3 3 3 3 5 5 5 6 6 7 7 7 8 9 9 7 \n",
      "2 2 2 2 3 3 3 5 5 5 6 6 6 7 7 8 8 9 9 8 \n",
      "1 1 2 2 3 4 4 5 6 6 7 7 8 8 8 8 9 9 9 9 \n",
      "1 1 1 1 1 2 2 2 2 3 3 3 4 4 5 5 6 7 7 5 \n",
      "1 2 2 2 2 3 3 3 4 5 5 5 5 6 6 7 7 8 9 9 \n",
      "1 1 2 3 3 4 4 4 4 5 5 6 6 6 7 7 8 8 9 9 \n",
      "1 1 2 2 2 2 2 3 3 4 4 4 5 5 5 6 7 7 7 6 \n",
      "1 1 2 2 3 3 3 3 4 4 4 5 5 5 6 8 8 8 9 6 \n",
      "1 2 3 4 4 4 4 4 5 5 6 7 7 7 7 8 8 8 9 8 \n",
      "1 1 1 2 2 2 2 2 3 3 3 4 4 4 6 7 7 8 9 5 \n",
      "1 1 2 2 2 2 3 3 4 5 5 5 6 6 7 8 9 9 9 7 \n",
      "1 1 1 2 2 2 2 3 3 3 4 6 6 7 7 8 8 9 9 9 \n",
      "1 1 1 2 2 3 4 4 5 5 5 5 5 7 7 8 8 8 9 9 \n",
      "1 2 2 2 2 2 3 5 5 6 6 6 7 7 7 8 9 9 9 9 \n",
      "1 1 1 2 2 3 3 3 3 3 3 4 6 6 6 7 7 8 9 6 \n",
      "1 1 1 2 2 3 3 3 3 4 5 6 6 7 8 8 8 8 8 8 \n",
      "1 2 2 2 2 3 3 4 4 6 6 7 7 7 8 8 9 9 9 5 \n",
      "1 1 2 2 3 3 3 3 4 5 6 6 6 6 7 8 8 9 9 7 \n",
      "1 1 2 2 3 3 3 3 3 3 4 7 8 8 8 8 9 9 9 7 \n",
      "--- 166 ms ---\n"
     ]
    }
   ],
   "source": [
    "# Сортировка Шелла.\n",
    "start_time = time.time()\n",
    "M = copy.deepcopy(mat)\n",
    "def sh_sort(row):\n",
    "    b = len(row)\n",
    "    k = b//2\n",
    "    while k > 0:\n",
    "        for i in range (int(b-k)):\n",
    "            j = i\n",
    "            while j >= 0 and row[j] > row[int(j + k)]:\n",
    "                h = row[j]\n",
    "                row[j] = row[int(j+k)]\n",
    "                row[int(j+k)] = h\n",
    "                j = j - 1\n",
    "        k = k / 2\n",
    "    return row\n",
    "for row in M:\n",
    "    row = sh_sort(row)\n",
    "mprint(M)\n",
    "sh_sort_time = round((time.time() - start_time)*1000)\n",
    "print(\"--- {0} ms ---\".format(sh_sort_time))"
   ]
  },
  {
   "cell_type": "code",
   "execution_count": 27,
   "id": "correct-chaos",
   "metadata": {},
   "outputs": [
    {
     "name": "stdout",
     "output_type": "stream",
     "text": [
      "1 1 1 2 2 3 3 3 3 3 4 5 5 6 6 7 7 8 9 9 \n",
      "1 1 1 2 3 3 3 3 5 5 5 6 6 7 7 7 7 8 9 9 \n",
      "2 2 2 2 3 3 3 5 5 5 6 6 6 7 7 8 8 8 9 9 \n",
      "1 1 2 2 3 4 4 5 6 6 7 7 8 8 8 8 9 9 9 9 \n",
      "1 1 1 1 1 2 2 2 2 3 3 3 4 4 5 5 5 6 7 7 \n",
      "1 2 2 2 2 3 3 3 4 5 5 5 5 6 6 7 7 8 9 9 \n",
      "1 1 2 3 3 4 4 4 4 5 5 6 6 6 7 7 8 8 9 9 \n",
      "1 1 2 2 2 2 2 3 3 4 4 4 5 5 5 6 6 7 7 7 \n",
      "1 1 2 2 3 3 3 3 4 4 4 5 5 5 6 6 8 8 8 9 \n",
      "1 2 3 4 4 4 4 4 5 5 6 7 7 7 7 8 8 8 8 9 \n",
      "1 1 1 2 2 2 2 2 3 3 3 4 4 4 5 6 7 7 8 9 \n",
      "1 1 2 2 2 2 3 3 4 5 5 5 6 6 7 7 8 9 9 9 \n",
      "1 1 1 2 2 2 2 3 3 3 4 6 6 7 7 8 8 9 9 9 \n",
      "1 1 1 2 2 3 4 4 5 5 5 5 5 7 7 8 8 8 9 9 \n",
      "1 2 2 2 2 2 3 5 5 6 6 6 7 7 7 8 9 9 9 9 \n",
      "1 1 1 2 2 3 3 3 3 3 3 4 6 6 6 6 7 7 8 9 \n",
      "1 1 1 2 2 3 3 3 3 4 5 6 6 7 8 8 8 8 8 8 \n",
      "1 2 2 2 2 3 3 4 4 5 6 6 7 7 7 8 8 9 9 9 \n",
      "1 1 2 2 3 3 3 3 4 5 6 6 6 6 7 7 8 8 9 9 \n",
      "1 1 2 2 3 3 3 3 3 3 4 7 7 8 8 8 8 9 9 9 \n",
      "--- 16 ms ---\n"
     ]
    }
   ],
   "source": [
    "# Быстрая сортировка.\n",
    "start_time = time.time()\n",
    "def qsort(row):\n",
    "    if len(row)<=1:\n",
    "        return row\n",
    "    q=row[0]\n",
    "    l=[]\n",
    "    c=[]\n",
    "    r=[]\n",
    "    for i in range (len(row)):\n",
    "        if row[i]<q:\n",
    "            l.append(row[i])\n",
    "        if row[i]==q:\n",
    "            c.append(row[i])\n",
    "        if row[i]>q:\n",
    "            r.append(row[i])\n",
    "    return qsort(l) + c + qsort(r)\n",
    "M = copy.deepcopy(mat)\n",
    "M1 = []\n",
    "for row in M:\n",
    "    M1.append(qsort(row))\n",
    "mprint(M1)\n",
    "qsort_time = round((time.time() - start_time)*1000)\n",
    "print(\"--- {0} ms ---\".format(qsort_time))\n",
    "    "
   ]
  },
  {
   "cell_type": "code",
   "execution_count": 23,
   "id": "french-czech",
   "metadata": {},
   "outputs": [
    {
     "name": "stdout",
     "output_type": "stream",
     "text": [
      "1 1 1 2 2 3 3 3 3 3 4 5 5 6 6 7 7 8 9 9 \n",
      "1 1 1 2 3 3 3 3 5 5 5 6 6 7 7 7 7 8 9 9 \n",
      "2 2 2 2 3 3 3 5 5 5 6 6 6 7 7 8 8 8 9 9 \n",
      "1 1 2 2 3 4 4 5 6 6 7 7 8 8 8 8 9 9 9 9 \n",
      "1 1 1 1 1 2 2 2 2 3 3 3 4 4 5 5 5 6 7 7 \n",
      "1 2 2 2 2 3 3 3 4 5 5 5 5 6 6 7 7 8 9 9 \n",
      "1 1 2 3 3 4 4 4 4 5 5 6 6 6 7 7 8 8 9 9 \n",
      "1 1 2 2 2 2 2 3 3 4 4 4 5 5 5 6 6 7 7 7 \n",
      "1 1 2 2 3 3 3 3 4 4 4 5 5 5 6 6 8 8 8 9 \n",
      "1 2 3 4 4 4 4 4 5 5 6 7 7 7 7 8 8 8 8 9 \n",
      "1 1 1 2 2 2 2 2 3 3 3 4 4 4 5 6 7 7 8 9 \n",
      "1 1 2 2 2 2 3 3 4 5 5 5 6 6 7 7 8 9 9 9 \n",
      "1 1 1 2 2 2 2 3 3 3 4 6 6 7 7 8 8 9 9 9 \n",
      "1 1 1 2 2 3 4 4 5 5 5 5 5 7 7 8 8 8 9 9 \n",
      "1 2 2 2 2 2 3 5 5 6 6 6 7 7 7 8 9 9 9 9 \n",
      "1 1 1 2 2 3 3 3 3 3 3 4 6 6 6 6 7 7 8 9 \n",
      "1 1 1 2 2 3 3 3 3 4 5 6 6 7 8 8 8 8 8 8 \n",
      "1 2 2 2 2 3 3 4 4 5 6 6 7 7 7 8 8 9 9 9 \n",
      "1 1 2 2 3 3 3 3 4 5 6 6 6 6 7 7 8 8 9 9 \n",
      "1 1 2 2 3 3 3 3 3 3 4 7 7 8 8 8 8 9 9 9 \n",
      "--- 25 ms ---\n"
     ]
    }
   ],
   "source": [
    "# Турнирная сортировка.\n",
    "start_time = time.time()\n",
    "import heapq\n",
    "M = copy.deepcopy(mat)\n",
    "def tsort(row, hsize):\n",
    "    heap = []\n",
    "    if len(row) >= hsize:\n",
    "        heap = row[:hsize]\n",
    "    else:\n",
    "        heap = row[:]\n",
    "    heapq.heapify(heap)\n",
    "    \n",
    "    win = [float('-inf')]\n",
    "    los = []\n",
    "    i = hsize\n",
    "    while i < len(row) or len(heap) > 0:\n",
    "        top = heapq.heappop(heap)\n",
    "        if top >= win[-1]:\n",
    "            win.append(top)\n",
    "        else:\n",
    "            los.append(top)\n",
    "            \n",
    "        if i < len(row):\n",
    "            heapq.heappush(heap, row[i])\n",
    "        i += 1\n",
    "        \n",
    "    del win[0]\n",
    "    row.clear()\n",
    "    row.extend(los)\n",
    "    row.extend(win)\n",
    "    \n",
    "    if len(los) > 0:\n",
    "        tsort(row, hsize)\n",
    "        \n",
    "for i in range(len(M)):\n",
    "        tsort(M[i], 10)\n",
    "mprint(M)\n",
    "\n",
    "tsort_time = round((time.time() - start_time)*1000)\n",
    "print(\"--- {0} ms ---\".format(tsort_time))\n",
    "\n",
    "### Вывод\n"
   ]
  },
  {
   "cell_type": "code",
   "execution_count": 36,
   "id": "19e7f6a9",
   "metadata": {},
   "outputs": [
    {
     "name": "stdout",
     "output_type": "stream",
     "text": [
      "1 место: .sort() - 0 ms\n",
      "2 место: bubble sort - 16 ms\n",
      "3 место: insertion sort - 16 ms\n",
      "4 место: quick sort - 16 ms\n",
      "5 место: selection sort - 17 ms\n",
      "6 место: tournament sort - 25 ms\n",
      "7 место: shell sort - 166 ms\n"
     ]
    }
   ],
   "source": [
    "M = copy.deepcopy(mat)\n",
    "start_time = time.time()\n",
    "\n",
    "for i in range(len(M)):\n",
    "    M[i].sort()\n",
    "default_sort_time = round((time.time() - start_time)*1000)\n",
    "\n",
    "sort_list = [[choice_sort_time, \"selection sort\"],\n",
    "             [insert_sort_time, \"insertion sort\"],\n",
    "             [exch_sort_time, \"bubble sort\"],\n",
    "             [sh_sort_time, \"shell sort\"],\n",
    "             [qsort_time, \"quick sort\"],\n",
    "             [tsort_time, \"tournament sort\"],\n",
    "             [default_sort_time, \".sort()\"]]\n",
    "\n",
    "sort_list.sort()\n",
    "\n",
    "for i in range(len(sort_list)):\n",
    "    print(f\"{i + 1} место: {sort_list[i][1]} - {sort_list[i][0]} ms\")"
   ]
  },
  {
   "cell_type": "code",
   "execution_count": null,
   "id": "5b53be17",
   "metadata": {},
   "outputs": [],
   "source": []
  }
 ],
 "metadata": {
  "kernelspec": {
   "display_name": "Python 3 (ipykernel)",
   "language": "python",
   "name": "python3"
  },
  "language_info": {
   "codemirror_mode": {
    "name": "ipython",
    "version": 3
   },
   "file_extension": ".py",
   "mimetype": "text/x-python",
   "name": "python",
   "nbconvert_exporter": "python",
   "pygments_lexer": "ipython3",
   "version": "3.9.7"
  }
 },
 "nbformat": 4,
 "nbformat_minor": 5
}
