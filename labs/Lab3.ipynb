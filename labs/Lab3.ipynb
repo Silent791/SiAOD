{
 "cells": [
  {
   "cell_type": "markdown",
   "id": "db4b50f0",
   "metadata": {},
   "source": [
    "# Лабораторная работа №3\n",
    "## Выполнил студент группы БВТ2005 Голубков Антон"
   ]
  },
  {
   "cell_type": "markdown",
   "id": "annual-symbol",
   "metadata": {},
   "source": [
    "### Оглавление\n",
    "1. [Задание 1](#Задание-№1)\n",
    "2. [Задание 2](#Задание-№2)\n",
    "4. [Вывод](#Вывод)"
   ]
  },
  {
   "cell_type": "markdown",
   "id": "independent-spirit",
   "metadata": {},
   "source": [
    "> Дополнительные модули, использованные при выполнение лабораторной"
   ]
  },
  {
   "cell_type": "code",
   "execution_count": 8,
   "id": "4839be2b",
   "metadata": {},
   "outputs": [],
   "source": [
    "# Необходим при замере скорости выполнения кода\n",
    "from datetime import datetime as t\n",
    "# Нужен для создания словаря в алг. Бойера-Мура\n",
    "from collections import defaultdict"
   ]
  },
  {
   "cell_type": "markdown",
   "id": "inclusive-motorcycle",
   "metadata": {},
   "source": [
    "### Задание №1\n",
    "Реализовать методы поиска подстроки в строке. Добавить возможность ввода строки и подстроки с клавиатуры. Предусмотреть возможность существования пробела. Реализовать возможность выбора опции чувствительности или нечувствительности к регистру. Оценить время работы каждого алгоритма поиска и сравнить его со временем работы стандартной функции поиска, используемой в выбранном языке программирования."
   ]
  },
  {
   "cell_type": "markdown",
   "id": "interracial-communication",
   "metadata": {},
   "source": [
    "#### Алгоритм Кнута-Морриса-Пратта"
   ]
  },
  {
   "cell_type": "code",
   "execution_count": 9,
   "id": "presidential-level",
   "metadata": {},
   "outputs": [
    {
     "name": "stdout",
     "output_type": "stream",
     "text": [
      "string: oniOnions plonionso\n",
      "pattern: onions\n",
      "prefix table: [0, 0, 0, 1, 2, 0]\n",
      "matches: [3, 12]\n",
      "time: 0:00:00.001000\n"
     ]
    }
   ],
   "source": [
    "def prefix(pattern):\n",
    "    pi = [0 for i in range(len(pattern))]\n",
    "    j = 0\n",
    "    i = 1\n",
    "    while i < len(pi):\n",
    "        if pattern[j] == pattern[i]:\n",
    "            pi[i] = j + 1\n",
    "            i += 1\n",
    "            j += 1\n",
    "        elif j == 0:\n",
    "            pi[i] = 0\n",
    "            i += 1\n",
    "        else:\n",
    "            j = pi[j - 1]\n",
    "    return pi\n",
    "\n",
    "def kmp(string, pattern, case_flag):\n",
    "    if case_flag:\n",
    "        string = string.lower()\n",
    "        pattern = pattern.lower()\n",
    "    matches = []\n",
    "    pi = prefix(pattern)\n",
    "    i = 0\n",
    "    j = 0\n",
    "    while i < len(string):\n",
    "        if string[i] == pattern[j]:\n",
    "            i += 1\n",
    "            j += 1 \n",
    "            if j == len(pattern):\n",
    "                matches.append(i - j)\n",
    "                j = pi[j - 1]\n",
    "        else:\n",
    "            if j > 0:\n",
    "                j = pi[j - 1]\n",
    "            else:\n",
    "                i += 1\n",
    "    return matches\n",
    "\n",
    "print(\"string: \", end = '')\n",
    "string = input()\n",
    "print(\"pattern: \", end = '')\n",
    "pattern = input()\n",
    "print(f\"prefix table: {prefix(pattern)}\")\n",
    "t1 = t.now()\n",
    "result = kmp(string, pattern, True)\n",
    "t2 = t.now() - t1\n",
    "print(f\"matches: {result}\")\n",
    "print(f\"time: {t2}\")"
   ]
  },
  {
   "cell_type": "markdown",
   "id": "downtown-option",
   "metadata": {},
   "source": [
    "#### Упрощенный алгоритм Бойера-Мура"
   ]
  },
  {
   "cell_type": "code",
   "execution_count": 10,
   "id": "respective-reggae",
   "metadata": {},
   "outputs": [
    {
     "name": "stdout",
     "output_type": "stream",
     "text": [
      "string: oniOnions plonionso\n",
      "pattern: onions\n",
      "matches: [3, 12]\n",
      "time: 0:00:00\n"
     ]
    }
   ],
   "source": [
    "def shift(pattern):\n",
    "    table = defaultdict(lambda: len(pattern))\n",
    "    for i in range(len(pattern) - 1):\n",
    "        table[pattern[i]] = len(pattern) - 1 - i\n",
    "    return table\n",
    "\n",
    "def bmh(string, pattern, case_flag):\n",
    "    if case_flag:\n",
    "        string = string.lower()\n",
    "        pattern = pattern.lower()\n",
    "    matches = []\n",
    "    table = shift(pattern)\n",
    "    i = len(pattern) - 1\n",
    "    while i < len(string):\n",
    "        k = 0\n",
    "        while k < len(pattern) and string[i - k] == pattern[len(pattern) - 1 - k]:\n",
    "            k += 1\n",
    "        if k != len(pattern):\n",
    "            i += table[string[i]]\n",
    "        else:\n",
    "            matches.append(i - len(pattern) + 1)\n",
    "            i += table[string[i]]\n",
    "    return matches\n",
    "\n",
    "print(\"string: \", end = '')\n",
    "string = input()\n",
    "print(\"pattern: \", end = '')\n",
    "pattern = input()\n",
    "t1 = t.now()\n",
    "result = bmh(string, pattern, True)\n",
    "t2 = t.now() - t1\n",
    "print(f\"matches: {result}\")\n",
    "print(f\"time: {t2}\")"
   ]
  },
  {
   "cell_type": "markdown",
   "id": "hybrid-memorial",
   "metadata": {},
   "source": [
    "### Задание №2\n",
    "Написать программу, определяющую, является ли данное\n",
    "расположение «решаемым», то есть можно ли из него за конечное число\n",
    "шагов перейти к правильному. Если это возможно, то необходимо найти хотя\n",
    "бы одно решение - последовательность движений, после которой числа будут\n",
    "расположены в правильном порядке.\n",
    "#### Входные данные: массив чисел, представляющий собой расстановку в\n",
    "Порядке «слева направо, сверху вниз». Число 0 обозначает пустое поле.\n",
    "Например, массив [1, 2, 3, 4, 5, 6, 7, 8, 9, 10, 11, 12, 13, 14, 15, 0] представляет\n",
    "собой «решенную» позицию элементов.\n",
    "#### Выходные данные: если решения нет, то функция должна вернуть\n",
    "Пустой массив []. Если решение есть, то необходимо представить решение —\n",
    "для каждого шага записывается номер передвигаемого на данном шаге\n",
    "элемента. "
   ]
  },
  {
   "cell_type": "code",
   "execution_count": 5,
   "id": "eleven-generic",
   "metadata": {},
   "outputs": [
    {
     "name": "stdout",
     "output_type": "stream",
     "text": [
      "[[ 2  6 13  7]\n",
      " [ 8 10 15  1]\n",
      " [ 0  3  4  5]\n",
      " [ 9 11 12 14]]\n",
      "\n",
      "[[ 0  4  8 12]\n",
      " [ 1  5  9 13]\n",
      " [ 2  6 10 14]\n",
      " [ 3  7 11 15]]\n",
      "\n",
      "[[ 0  1  2  3]\n",
      " [ 4  5  6  7]\n",
      " [ 8  9 10 11]\n",
      " [12 13 14 15]]\n",
      "\n",
      "[[ 1  2  3  4]\n",
      " [ 5  6  7  8]\n",
      " [ 9 10 11 12]\n",
      " [13 14 15  0]]\n"
     ]
    }
   ],
   "source": [
    "import numpy as np\n",
    "import itertools\n",
    "\n",
    "array = np.array([2,6,13,7,8,10,15,1,0,3,4,5,9,11,12,14])\n",
    "\n",
    "array = array.reshape(4,4)\n",
    "\n",
    "print(str(array) + '\\n')\n",
    "\n",
    "def sort_by_columns(array):\n",
    "    lst = sorted(itertools.chain.from_iterable(array))\n",
    "    return [lst[i::len(array)] for i in range(len(array))]\n",
    "    \n",
    "\n",
    "array = np.array(sort_by_columns(array))\n",
    "\n",
    "print(str(array) + '\\n')\n",
    "\n",
    "array = np.transpose(array)\n",
    "\n",
    "print(str(array) + '\\n')\n",
    "\n",
    "array = np.delete(array, 0)\n",
    "array = np.append(array, 0)\n",
    "print(array.reshape(4,4))"
   ]
  },
  {
   "cell_type": "markdown",
   "id": "arbitrary-amazon",
   "metadata": {},
   "source": [
    "### Вывод"
   ]
  },
  {
   "cell_type": "markdown",
   "id": "71bc58bf",
   "metadata": {},
   "source": []
  }
 ],
 "metadata": {
  "kernelspec": {
   "display_name": "Python 3 (ipykernel)",
   "language": "python",
   "name": "python3"
  },
  "language_info": {
   "codemirror_mode": {
    "name": "ipython",
    "version": 3
   },
   "file_extension": ".py",
   "mimetype": "text/x-python",
   "name": "python",
   "nbconvert_exporter": "python",
   "pygments_lexer": "ipython3",
   "version": "3.9.7"
  }
 },
 "nbformat": 4,
 "nbformat_minor": 5
}
