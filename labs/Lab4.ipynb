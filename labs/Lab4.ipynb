{
 "cells": [
  {
   "cell_type": "markdown",
   "id": "fifteen-sailing",
   "metadata": {},
   "source": [
    "# Лабораторная работа №4\n",
    "## Выполнил студент группы ФИО ГРУППА"
   ]
  },
  {
   "cell_type": "markdown",
   "id": "arctic-stocks",
   "metadata": {},
   "source": [
    "Реализовать следующие структуры данных:\n",
    "  \n",
    "● <b> Стек (stack): </b>  \n",
    "Операции для стека: \n",
    "<i> инициализация, проверка на пустоту, добавление нового элемента в начало, извлечение элемента из начала;  </i>  \n",
    "  \n",
    "● <b> Дек (двусторонняя очередь, deque):  </b>  \n",
    "Операции для дека: \n",
    "<i> инициализация, проверка на пустоту, добавление нового элемента в начало, добавление нового элемента в конец, извлечение элемента из начала, извлечение элемента из конца. </i>  \n",
    "  \n",
    "<i> Разработать программу обработки данных, содержащихся в заранее подготовленном txt-файле, в соответствии с заданиями, применив указанную в задании структуру данных. Результат работы программы вывести на экран и сохранить в отдельном txt-файле. </i>"
   ]
  },
  {
   "cell_type": "code",
   "execution_count": 55,
   "id": "51b6f188",
   "metadata": {},
   "outputs": [],
   "source": [
    "class Stack:\n",
    "    def __init__(self, ar = []):\n",
    "        self.Stack = ar\n",
    "        self.size = 0\n",
    "    def empty(self):\n",
    "        return False if len(self.Stack) else True\n",
    "    def append(self, elem):\n",
    "        self.Stack.append(elem)\n",
    "    def pop(self):\n",
    "        return self.Stack.pop()\n",
    "    def __len__(self):\n",
    "        return self.size\n",
    "    def peek(self):\n",
    "        return self.Stack[-1]\n",
    "class Deque:\n",
    "    def __init__(self, ar = []):\n",
    "        self.Deque = ar\n",
    "    def empty(self):\n",
    "        return False if len(self.Deque) else True\n",
    "    def append_b(self, elem):       #b - beginning\n",
    "        self.Deque.insert(0, elem)\n",
    "    def append_e(self, elem):       #e - end\n",
    "        self.Deque.append(elem)\n",
    "    def pop_b(self):\n",
    "        return self.Deque.pop(0)\n",
    "    def pop_e(self):\n",
    "        return self.Deque.pop()"
   ]
  },
  {
   "cell_type": "markdown",
   "id": "5d7edb08",
   "metadata": {
    "scrolled": true
   },
   "source": [
    "### Задание №1\n",
    "Отсортировать строки файла, содержащие названия книг, в алфавитном порядке с использованием двух деков."
   ]
  },
  {
   "cell_type": "code",
   "execution_count": 56,
   "id": "17702ade",
   "metadata": {},
   "outputs": [],
   "source": [
    "def sort_books(data):\n",
    "    if len(data) == 0:\n",
    "        return []\n",
    "    deq1 = Deque([])\n",
    "    deq2 = Deque([])\n",
    "    deq1.append_b(data[0])\n",
    "    for i in range(1, len(data)):\n",
    "        t1 = deq1.pop_b()\n",
    "        if data[i] <= t1:\n",
    "            deq1.append_b(t1)\n",
    "            deq1.append_b(data[i])\n",
    "            continue\n",
    "        deq1.append_b(t1)\n",
    "        t2 = deq1.pop_e()\n",
    "        if data[i] >= t2:\n",
    "            deq1.append_e(t2)\n",
    "            deq1.append_e(data[i])\n",
    "            continue\n",
    "        deq1.append_e(t2)\n",
    "        t = deq1.pop_b()\n",
    "        while data[i] >= t:\n",
    "            deq2.append_e(t)\n",
    "            t = deq1.pop_b()\n",
    "        deq1.append_b(t)\n",
    "        deq1.append_b(data[i])\n",
    "        while deq2.empty() is False:\n",
    "            deq1.append_b(deq2.pop_e())\n",
    "    return deq1.Deque\n",
    "\n",
    "with open(\"Books.txt\", \"r\") as file:\n",
    "        t = []\n",
    "        for line in file:\n",
    "            t.append(line)\n",
    "        t[-1] += \"\\n\"\n",
    "        result = sort_books(t)\n",
    "with open(\"Sorted_Books.txt\", \"w\") as file:\n",
    "        file.writelines(result)"
   ]
  },
  {
   "cell_type": "markdown",
   "id": "49fbd2a0",
   "metadata": {},
   "source": [
    "### Задание №2\n",
    "Дек содержит последовательность символов для шифровки сообщений. Дан текстовый файл, содержащий зашифрованное сообщение. Пользуясь деком, расшифровать текст. \n",
    "Известно, что при шифровке каждый символ сообщения заменялся следующим за ним в деке по часовой стрелке через один."
   ]
  },
  {
   "cell_type": "code",
   "execution_count": 57,
   "id": "81cab7a8",
   "metadata": {},
   "outputs": [],
   "source": [
    "def encryption (msg):\n",
    "    deq = Deque(['a', 'b', 'c', 'd', 'e', 'f', 'g'])\n",
    "    out = \"\"\n",
    "    for elem in msg:\n",
    "        t_stack = Stack([])\n",
    "        t = deq.pop_b()\n",
    "        i = 1\n",
    "        while elem != t:\n",
    "            t_stack.append(t)\n",
    "            t = deq.pop_b()\n",
    "        if t_stack.empty():\n",
    "            deq.append_b(t)\n",
    "            t_stack.append(deq.pop_e())\n",
    "            t = deq.pop_e()\n",
    "            out += t\n",
    "            deq.append_e(t)\n",
    "            deq.append_e(t_stack.pop())\n",
    "        elif len(t_stack.Stack) == 1:\n",
    "            deq.append_b(t)\n",
    "            deq.append_b(t_stack.pop())\n",
    "            t = deq.pop_e()\n",
    "            out += t\n",
    "            deq.append_e(t)\n",
    "        else:\n",
    "            deq.append_b(t)\n",
    "            t2 = t_stack.pop()\n",
    "            t = t_stack.pop()\n",
    "            out += t\n",
    "            deq.append_b(t2)\n",
    "            deq.append_b(t)\n",
    "            while t_stack.empty() is False:\n",
    "                deq.append_b(t_stack.pop())\n",
    "    return out\n",
    "\n",
    "out = []\n",
    "with open(\"Encrypted_msg.txt\", \"r\") as file:\n",
    "        for l in file:\n",
    "            out.append(encryption(l))\n",
    "with open(\"Decrypted_msg.txt\", \"w\") as file:\n",
    "        for l in out:\n",
    "            file.write(l)"
   ]
  },
  {
   "cell_type": "markdown",
   "id": "c0894f47",
   "metadata": {},
   "source": [
    "### Задание №3\n",
    "Даны три стержня и n дисков различного размера. Диски можно надевать на стержни, образуя из них башни. Перенести n дисков со стержня А на стержень С, сохранив их первоначальный порядок. При переносе дисков необходимо соблюдать следующие правила:\n",
    "- на каждом шаге со стержня на стержень переносить только один диск;\n",
    "- диск нельзя помещать на диск меньшего размера;\n",
    "- для промежуточного хранения можно использовать стержень В.\n",
    "Реализовать алгоритм, используя три стека вместо стержней А, В, С. Информация о дисках хранится в исходном файле."
   ]
  },
  {
   "cell_type": "code",
   "execution_count": null,
   "id": "9e91a9d4",
   "metadata": {},
   "outputs": [],
   "source": [
    "A = Stack()\n",
    "B = Stack()\n",
    "C = Stack()\n",
    "disks = 6\n",
    "for i in range(disks, 0, -1):\n",
    "    A.append(i)\n",
    "    \n",
    "def move(a, b):\n",
    "    if len(a) == 0 and len(b) > 0:\n",
    "        a.append(b.pop())\n",
    "    elif len(a) > 0 and len(b) == 0:\n",
    "        b.append(a.pop())\n",
    "    elif a.peek() > b.peek():\n",
    "        a.append(b.pop())\n",
    "    else:\n",
    "        b.append(a.pop())       \n",
    "def task(A,B,C):\n",
    "    if disks % 2 == 0:\n",
    "        while len(C) != disks:\n",
    "            move(A, B)\n",
    "            move(A, C)\n",
    "            move(B, C) \n",
    "    else:\n",
    "        while len(C) != disks:\n",
    "            move(A, C)\n",
    "            move(A, B)\n",
    "            move(C, B)\n",
    "            move(A, C)\n",
    "            move(B, A)\n",
    "            move(B, C)\n",
    "            move(A, C)\n",
    "\n",
    "    while not C.empty():\n",
    "        print(C.pop())\n",
    "task(A,B,C)"
   ]
  },
  {
   "cell_type": "markdown",
   "id": "e5b0be17",
   "metadata": {},
   "source": [
    "### Задание №4\n",
    "Дан текстовый файл с программой на алгоритмическом языке. За один просмотр файла проверить баланс круглых скобок в тексте, используя стек."
   ]
  },
  {
   "cell_type": "code",
   "execution_count": 50,
   "id": "5b1df60a",
   "metadata": {},
   "outputs": [],
   "source": [
    "def brackets1(): \n",
    "    with open(\"Code.txt\", \"r\") as file:\n",
    "        st = Stack()\n",
    "        for line in file:\n",
    "            for el in line:\n",
    "                if el == '(':\n",
    "                    st.append(el)\n",
    "                elif el == ')':\n",
    "                    if st.empty():\n",
    "                        return False\n",
    "                    else:\n",
    "                        st.pop()\n",
    "    return True if st.empty() else False\n",
    "with open(\"Result_Code.txt\", \"w\") as file:\n",
    "    file.write(str(brackets1()))"
   ]
  },
  {
   "cell_type": "markdown",
   "id": "c44cdd6b",
   "metadata": {},
   "source": [
    "### Задание №5\n",
    "Дан текстовый файл с программой на алгоритмическом языке. За один просмотр файла проверить баланс квадратных скобок в тексте, используя дек."
   ]
  },
  {
   "cell_type": "code",
   "execution_count": 51,
   "id": "36b8f400",
   "metadata": {},
   "outputs": [],
   "source": [
    "def brackets2(): \n",
    "    with open(\"Code.txt\", \"r\") as file:\n",
    "        deq = Deque()\n",
    "        for line in file:\n",
    "            for el in line:\n",
    "                if el == '[':\n",
    "                    deq.append_e(el)\n",
    "                elif el == ']':\n",
    "                    if deq.empty():\n",
    "                        return False\n",
    "                    else:\n",
    "                        deq.pop_e()\n",
    "    return True if deq.empty() else False\n",
    "\n",
    "with open(\"Result_Code[].txt\", \"w\") as file:\n",
    "    file.write(str(brackets2()))"
   ]
  },
  {
   "cell_type": "markdown",
   "id": "59d13dc7",
   "metadata": {},
   "source": [
    "### Задание №6\n",
    "Дан файл из символов. Используя стек, за один просмотр файла напечатать сначала все цифры, затем все буквы, и, наконец, все остальные символы, сохраняя исходный порядок в каждой группе символов."
   ]
  },
  {
   "cell_type": "code",
   "execution_count": 62,
   "id": "297e36c2",
   "metadata": {},
   "outputs": [],
   "source": [
    "with open(\"LTS.txt\", \"r\") as file:\n",
    "    numbers = Stack()\n",
    "    letters = Stack()\n",
    "    symbols = Stack()\n",
    "    for line in file:\n",
    "        for el in line:\n",
    "            if el.isdigit():\n",
    "                numbers.append(el)\n",
    "            elif el.isalpha():\n",
    "                letters.append(el)\n",
    "            else:\n",
    "                symbols.append(el)\n",
    "with open(\"Result_LTS.txt\", \"w\") as file:\n",
    "    temp1 = \"\"\n",
    "    temp2 = \"\"\n",
    "    temp3 = \"\"\n",
    "    while numbers.empty() is False:\n",
    "        temp1 += numbers.pop()\n",
    "    while letters.empty() is False:\n",
    "        temp2 += letters.pop()\n",
    "    while symbols.empty() is False:\n",
    "        temp3 += others.pop()\n",
    "    file.write(temp1[::-1] + temp2[::-1] + temp3[::-1])"
   ]
  },
  {
   "cell_type": "markdown",
   "id": "973f68bd",
   "metadata": {},
   "source": [
    "### Задание №7\n",
    "Дан файл из целых чисел. Используя дек, за один просмотр файла напечатать сначала все отрицательные числа, затем все положительные числа, сохраняя исходный порядок в каждой группе."
   ]
  },
  {
   "cell_type": "code",
   "execution_count": 63,
   "id": "c56fad66",
   "metadata": {},
   "outputs": [],
   "source": [
    "with open(\"7.txt\", \"r\") as file:\n",
    "    deq = Deque()\n",
    "    for line in file:\n",
    "        temp = line.split(\" \")\n",
    "        for el in temp:\n",
    "            if int(el) < 0:\n",
    "                deq.append_b(int(el))\n",
    "            else:\n",
    "                deq.append_e(int(el))\n",
    "with open(\"R7.txt\", \"w\") as file:\n",
    "    temp = \"\"\n",
    "    while deq.empty() is False:\n",
    "        temp += str(deq.pop_b()) + \" \"\n",
    "    file.write(temp)"
   ]
  },
  {
   "cell_type": "markdown",
   "id": "b9228191",
   "metadata": {},
   "source": [
    "### Задание №8\n",
    "Дан текстовый файл. Используя стек, сформировать новый текстовый файл, содержащий строки исходного файла, записанные в обратном порядке: первая строка становится последней, вторая – предпоследней и т.д."
   ]
  },
  {
   "cell_type": "code",
   "execution_count": 64,
   "id": "981fbdfe",
   "metadata": {},
   "outputs": [],
   "source": [
    "with open(\"Pushkin.txt\", \"r\") as file:\n",
    "    st = Stack()\n",
    "    for line in file:\n",
    "        st.append(line)\n",
    "    if st.empty() is False:\n",
    "        temp = st.pop()\n",
    "        temp += \"\\n\"\n",
    "        st.append(temp)\n",
    "with open(\"R8.txt\", \"w\") as file:\n",
    "    while st.empty() is False:\n",
    "        file.write(st.pop())"
   ]
  },
  {
   "cell_type": "markdown",
   "id": "rental-jerusalem",
   "metadata": {},
   "source": [
    "### Вывод\n"
   ]
  },
  {
   "cell_type": "markdown",
   "id": "0c2b8899",
   "metadata": {},
   "source": []
  }
 ],
 "metadata": {
  "kernelspec": {
   "display_name": "Python 3 (ipykernel)",
   "language": "python",
   "name": "python3"
  },
  "language_info": {
   "codemirror_mode": {
    "name": "ipython",
    "version": 3
   },
   "file_extension": ".py",
   "mimetype": "text/x-python",
   "name": "python",
   "nbconvert_exporter": "python",
   "pygments_lexer": "ipython3",
   "version": "3.9.7"
  }
 },
 "nbformat": 4,
 "nbformat_minor": 5
}
