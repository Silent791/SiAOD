{
 "cells": [
  {
   "cell_type": "markdown",
   "metadata": {
    "id": "WPvB9TcMmKA6"
   },
   "source": [
    "# Лабораторная работа №5\n",
    "# Рекурсия. Фракталы."
   ]
  },
  {
   "cell_type": "markdown",
   "metadata": {
    "id": "96Gi_LEvmSVH"
   },
   "source": [
    "## Выполнил студент группы БВТ2005 Голубков Антон Юрьевич\n",
    "***"
   ]
  },
  {
   "cell_type": "markdown",
   "metadata": {
    "id": "4clYOyb0mbEv"
   },
   "source": [
    "### Задание:\n",
    "Реализовать генерацию заданного типа фрактала с применением рекурсивных функций.\n",
    "\n",
    "\n",
    "Добавить возможность задания глубины фрактала. \n",
    "\n",
    "\n",
    "Оценить глубину рекурсии. \n",
    "\n",
    "\n",
    "Построить таблицу зависимости времени построения от глубины фрактала."
   ]
  },
  {
   "cell_type": "markdown",
   "metadata": {
    "id": "wDXHbUmMmhRL"
   },
   "source": [
    "### Список фракталов:\n",
    "\n",
    "Кривая Коха\n",
    "| Кривая Гильберта\n",
    "| Кривая Серпинского\n",
    "| Салфетка Серпинского\n",
    "| Ковер Серпинского\n",
    "| Дерево Пифагора "
   ]
  },
  {
   "cell_type": "markdown",
   "metadata": {
    "id": "Wggfn8l7nG72"
   },
   "source": [
    "### Выполнение:"
   ]
  },
  {
   "cell_type": "code",
   "execution_count": 1,
   "metadata": {},
   "outputs": [
    {
     "name": "stdout",
     "output_type": "stream",
     "text": [
      "Requirement already satisfied: prettytable in d:\\programs\\anaconda\\lib\\site-packages (3.2.0)\n",
      "Requirement already satisfied: wcwidth in d:\\programs\\anaconda\\lib\\site-packages (from prettytable) (0.2.5)\n"
     ]
    }
   ],
   "source": [
    "! pip install prettytable"
   ]
  },
  {
   "cell_type": "markdown",
   "metadata": {},
   "source": [
    "## Кривая Коха без L - системы"
   ]
  },
  {
   "cell_type": "code",
   "execution_count": 7,
   "metadata": {
    "id": "681a95mZnOSa"
   },
   "outputs": [
    {
     "name": "stdout",
     "output_type": "stream",
     "text": [
      "Время построения: --- 7 ms ---\n"
     ]
    }
   ],
   "source": [
    "#Кривая Коха без L-системы\n",
    "try:\n",
    "    turtle.reset()\n",
    "except:\n",
    "    pass\n",
    "import turtle\n",
    "import time\n",
    "from prettytable import PrettyTable\n",
    "width = 1200\n",
    "height = 600\n",
    "screen = turtle.Screen()\n",
    "screen.setup(width, height, 0, 0)\n",
    "\n",
    "def draw_koch_segment(t, ln, deep):\n",
    "    if ln > deep:\n",
    "        ln3 = ln // 3\n",
    "        draw_koch_segment(t, ln3, deep)\n",
    "        t.left(60)\n",
    "        draw_koch_segment(t, ln3, deep)\n",
    "        t.right(120)\n",
    "        draw_koch_segment(t, ln3, deep)\n",
    "        t.left(60)\n",
    "        draw_koch_segment(t, ln3, deep)\n",
    "    else:\n",
    "        t.fd(ln)\n",
    "        t.left(60)\n",
    "        t.fd(ln)\n",
    "        t.right(120)\n",
    "        t.fd(ln)\n",
    "        t.left(60)\n",
    "        t.fd(ln)\n",
    "\n",
    "deep = 0            #Задание глубины рекурсии (от 0 до 4)\n",
    "deep - deep - 1\n",
    "if deep == 0:\n",
    "    deep = 300      #300+\n",
    "elif deep == 1:\n",
    "    deep = 100      #[100-300)\n",
    "elif deep == 2:\n",
    "    deep = 33       #(32-100)\n",
    "elif deep == 3:\n",
    "    deep = 11       #(10-32]\n",
    "else:\n",
    "    deep = 10\n",
    "t = turtle.Turtle()\n",
    "t.ht()\n",
    "t.penup()\n",
    "t.setpos(-600, -250)\n",
    "t.pendown()\n",
    "t.speed(100)\n",
    "turtle.tracer(1,0)  #Форсажный режим\n",
    "\n",
    "start_time = time.time()\n",
    "draw_koch_segment(t, 300, deep)\n",
    "duration = round((time.time() - start_time) * 1000)\n",
    "print(\"Время построения: \" + \"--- {0} ms ---\".format(duration))\n",
    "turtle.done()"
   ]
  },
  {
   "cell_type": "markdown",
   "metadata": {},
   "source": [
    "## Класс L - системы"
   ]
  },
  {
   "cell_type": "code",
   "execution_count": 6,
   "metadata": {},
   "outputs": [],
   "source": [
    "#Класс L - системы\n",
    "import turtle\n",
    "import time\n",
    "from prettytable import PrettyTable\n",
    "class LSystem:\n",
    "    def __init__(self, t, axiom, width, length, angle):\n",
    "        self.axiom = axiom\n",
    "        self.state = axiom\n",
    "        self.width = width\n",
    "        self.length = length\n",
    "        self.angle = angle\n",
    "        self.t = t\n",
    "        self.rules = {}\n",
    "        self.t.pensize(self.width)\n",
    "\n",
    "    def draw_turtle(self, start_pos, start_angle):\n",
    "        turtle.tracer(1, 0)     \n",
    "        self.t.up()                 \n",
    "        self.t.setpos(start_pos)    \n",
    "        self.t.seth(start_angle)    \n",
    "        self.t.down()\n",
    "        for move in self.state:\n",
    "            if move == 'F':\n",
    "                self.t.forward(self.length)\n",
    "            elif move == '+':\n",
    "                self.t.left(self.angle)\n",
    "            elif move == '-':\n",
    "                self.t.right(self.angle)  \n",
    "\n",
    "    def add_rules(self, *rules):\n",
    "        for key, value in rules:\n",
    "            self.rules[key] = value\n",
    "    def generate_path(self, n_iter):\n",
    "        for n in range(n_iter):\n",
    "            for key, value in self.rules.items():\n",
    "                self.state = self.state.replace(key, value.lower())\n",
    "\n",
    "            self.state = self.state.upper()"
   ]
  },
  {
   "cell_type": "markdown",
   "metadata": {},
   "source": [
    "## Кривая Коха с L - системой"
   ]
  },
  {
   "cell_type": "code",
   "execution_count": 8,
   "metadata": {},
   "outputs": [
    {
     "name": "stdout",
     "output_type": "stream",
     "text": [
      "Время построения: --- 5632 ms ---\n",
      "+------------------+-----------+\n",
      "| Глубина фрактала | Время, ms |\n",
      "+------------------+-----------+\n",
      "|        0         |     4     |\n",
      "|        1         |     28    |\n",
      "|        2         |    123    |\n",
      "|        3         |    625    |\n",
      "|        4         |    1600   |\n",
      "+------------------+-----------+\n"
     ]
    }
   ],
   "source": [
    "try:\n",
    "    turtle.reset()\n",
    "except:\n",
    "    pass  \n",
    "width = 1200\n",
    "height = 600\n",
    "screen = turtle.Screen()\n",
    "screen.setup(width, height, 0, 0)\n",
    "t = turtle.Turtle()\n",
    "t.ht()\n",
    "pen_width = 1\n",
    "f_len = 5  #длина одного сегмента прямой\n",
    "angle = 60\n",
    "\n",
    "l_sys = LSystem(t, \"F\", pen_width, f_len, angle)\n",
    "l_sys.add_rules((\"F\", \"F+F--F+F\"))\n",
    "l_sys.generate_path(5)                              #Задание глубины рекурсии\n",
    "start_time = time.time()\n",
    "l_sys.draw_turtle((-600, -250), 0)\n",
    "duration = round((time.time() - start_time) * 1000)\n",
    "turtle.done()\n",
    "print(\"Время построения: \" + \"--- {0} ms ---\".format(duration))\n",
    "\n",
    "#Таблица\n",
    "td = [0, 4, 1, 28, 2, 123, 3, 625, 4, 1600] #Данные\n",
    "td_data = td[:]\n",
    "th = [\"Глубина фрактала\", \"Время, ms\"] #Шапка\n",
    "columns = len(th)\n",
    "table = PrettyTable(th)\n",
    "while td_data:\n",
    "    table.add_row(td_data[:2])\n",
    "    td_data = td_data[2:]\n",
    "print(table)"
   ]
  },
  {
   "cell_type": "markdown",
   "metadata": {},
   "source": [
    "## Кривая Гильберта"
   ]
  },
  {
   "cell_type": "code",
   "execution_count": 9,
   "metadata": {},
   "outputs": [
    {
     "name": "stdout",
     "output_type": "stream",
     "text": [
      "Время построения: --- 2584 ms ---\n",
      "+------------------+-----------+\n",
      "| Глубина фрактала | Время, ms |\n",
      "+------------------+-----------+\n",
      "|        0         |     1     |\n",
      "|        1         |     15    |\n",
      "|        2         |    109    |\n",
      "|        3         |    528    |\n",
      "|        4         |    2592   |\n",
      "+------------------+-----------+\n"
     ]
    }
   ],
   "source": [
    "try:\n",
    "    turtle.reset()\n",
    "except:\n",
    "    pass\n",
    "width = 1200\n",
    "height = 600\n",
    "screen = turtle.Screen()\n",
    "screen.setup(width, height, 0, 0)\n",
    "\n",
    "t = turtle.Turtle()\n",
    "t.ht()          \n",
    "\n",
    "pen_width = 2  \n",
    "f_len = 5      \n",
    "angle = 90      \n",
    "axiom = \"X\"    \n",
    "\n",
    "l_sys = LSystem(t, axiom, pen_width, f_len, angle)\n",
    "l_sys.add_rules((\"X\", \"-YF+XFX+FY-\"), (\"Y\", \"+XF-YFY-FX+\"))\n",
    "l_sys.generate_path(4)                                         #ЗАДАТЬ ГЛУБИНУ РЕКУРСИИ\n",
    "start_time = time.time()\n",
    "l_sys.draw_turtle( (0, 0), 0)\n",
    "duration = round((time.time() - start_time) * 1000)\n",
    "turtle.done()\n",
    "print(\"Время построения: \" + \"--- {0} ms ---\".format(duration))\n",
    "\n",
    "#Таблица\n",
    "td = [0, 1, 1, 15, 2, 109, 3, 528, 4, 2592] #Данные\n",
    "td_data = td[:]\n",
    "th = [\"Глубина фрактала\", \"Время, ms\"] #Шапка\n",
    "columns = len(th)\n",
    "table = PrettyTable(th)\n",
    "while td_data:\n",
    "    table.add_row(td_data[:2])\n",
    "    td_data = td_data[2:]\n",
    "print(table)"
   ]
  },
  {
   "cell_type": "markdown",
   "metadata": {},
   "source": [
    "## Кривая Серпинского"
   ]
  },
  {
   "cell_type": "code",
   "execution_count": 10,
   "metadata": {},
   "outputs": [
    {
     "name": "stdout",
     "output_type": "stream",
     "text": [
      "Время построения: --- 2719 ms ---\n",
      "+------------------+-----------+\n",
      "| Глубина фрактала | Время, ms |\n",
      "+------------------+-----------+\n",
      "|        0         |     19    |\n",
      "|        1         |    110    |\n",
      "|        2         |    548    |\n",
      "|        3         |    2612   |\n",
      "|        4         |   11191   |\n",
      "+------------------+-----------+\n"
     ]
    }
   ],
   "source": [
    "try:\n",
    "    turtle.reset()\n",
    "except:\n",
    "    pass\n",
    "width = 1200\n",
    "height = 600\n",
    "screen = turtle.Screen()\n",
    "screen.setup(width, height, 0, 0)\n",
    "\n",
    "t = turtle.Turtle()\n",
    "t.ht()          \n",
    "\n",
    "pen_width = 2  \n",
    "f_len = 5      \n",
    "angle = 90    \n",
    "axiom = \"F-XF-F-XF\"\n",
    "\n",
    "l_sys = LSystem(t, axiom, pen_width, f_len, angle)\n",
    "l_sys.add_rules((\"X\", \"XF+F-F+XF-F-XF+F-F+X\"))\n",
    "l_sys.generate_path(3)                                         #ЗАДАТЬ ГЛУБИНУ РЕКУРСИИ\n",
    "start_time = time.time()\n",
    "l_sys.draw_turtle( (0, 0), 0)\n",
    "duration = round((time.time() - start_time) * 1000)\n",
    "turtle.done()\n",
    "print(\"Время построения: \" + \"--- {0} ms ---\".format(duration))\n",
    "\n",
    "#Таблица\n",
    "td = [0, 19, 1, 110, 2, 548 , 3, 2612 , 4, 11191] #Данные\n",
    "td_data = td[:]\n",
    "th = [\"Глубина фрактала\", \"Время, ms\"] #Шапка\n",
    "columns = len(th)\n",
    "table = PrettyTable(th)\n",
    "while td_data:\n",
    "    table.add_row(td_data[:2])\n",
    "    td_data = td_data[2:]\n",
    "print(table)"
   ]
  },
  {
   "cell_type": "markdown",
   "metadata": {},
   "source": [
    "## Салфетка Серпинского"
   ]
  },
  {
   "cell_type": "code",
   "execution_count": 11,
   "metadata": {},
   "outputs": [
    {
     "name": "stdout",
     "output_type": "stream",
     "text": [
      "Время построения: --- 619 ms ---\n"
     ]
    }
   ],
   "source": [
    "try:\n",
    "    turtle.reset()\n",
    "except:\n",
    "    pass\n",
    "width = 1200\n",
    "height = 600\n",
    "screen = turtle.Screen()\n",
    "screen.setup(width, height, 0, 0)\n",
    "\n",
    "t = turtle.Turtle()\n",
    "t.ht()          \n",
    "\n",
    "pen_width = 2  \n",
    "f_len = 10\n",
    "angle = 60\n",
    "axiom = \"FXF++FF++FF\"\n",
    "\n",
    "l_sys = LSystem(t, axiom, pen_width, f_len, angle)\n",
    "l_sys.add_rules((\"F\", \"FF\"), (\"X\", \"++FXF--FXF--FXF++\"))\n",
    "l_sys.generate_path(3)                                         #ЗАДАТЬ ГЛУБИНУ РЕКУРСИИ\n",
    "start_time = time.time()\n",
    "l_sys.draw_turtle( (0, 0), 0)\n",
    "duration = round((time.time() - start_time) * 1000)\n",
    "turtle.done()\n",
    "print(\"Время построения: \" + \"--- {0} ms ---\".format(duration))\n"
   ]
  },
  {
   "cell_type": "markdown",
   "metadata": {},
   "source": [
    "## Ковёр Серпинского"
   ]
  },
  {
   "cell_type": "code",
   "execution_count": 13,
   "metadata": {},
   "outputs": [
    {
     "name": "stdout",
     "output_type": "stream",
     "text": [
      "Время построения: --- 924 ms ---\n",
      "+------------------+-----------+\n",
      "| Глубина фрактала | Время, ms |\n",
      "+------------------+-----------+\n",
      "|        0         |     1     |\n",
      "|        1         |     79    |\n",
      "|        2         |    933    |\n",
      "|        3         |    9294   |\n",
      "|        4         |   86939   |\n",
      "+------------------+-----------+\n"
     ]
    }
   ],
   "source": [
    "try:\n",
    "    turtle.reset()\n",
    "except:\n",
    "    pass\n",
    "width = 1200\n",
    "height = 600\n",
    "screen = turtle.Screen()\n",
    "screen.setup(width, height, 0, 0)\n",
    "\n",
    "t = turtle.Turtle()\n",
    "t.ht()          \n",
    "\n",
    "pen_width = 2  \n",
    "f_len = 5      \n",
    "angle = 90    \n",
    "axiom = \"X\"\n",
    "\n",
    "l_sys = LSystem(t, axiom, pen_width, f_len, angle)\n",
    "l_sys.add_rules((\"F\", \"FFF\"), (\"X\", \"XFXFX-F+X-F+X--F--X--F--X+F-X+F-\"))\n",
    "l_sys.generate_path(3)                                         #ЗАДАТЬ ГЛУБИНУ РЕКУРСИИ\n",
    "start_time = time.time()\n",
    "l_sys.draw_turtle( (0, 0), 0)\n",
    "duration = round((time.time() - start_time) * 1000)\n",
    "turtle.done()\n",
    "print(\"Время построения: \" + \"--- {0} ms ---\".format(duration))\n",
    "\n",
    "#Таблица\n",
    "td = [0, 1, 1, 79, 2, 933 , 3, 9294, 4, 86939 ] #Данные\n",
    "td_data = td[:]\n",
    "th = [\"Глубина фрактала\", \"Время, ms\"] #Шапка\n",
    "columns = len(th)\n",
    "table = PrettyTable(th)\n",
    "while td_data:\n",
    "    table.add_row(td_data[:2])\n",
    "    td_data = td_data[2:]\n",
    "print(table)"
   ]
  },
  {
   "cell_type": "markdown",
   "metadata": {},
   "source": [
    "## Дерево Пифагора"
   ]
  },
  {
   "cell_type": "code",
   "execution_count": 14,
   "metadata": {},
   "outputs": [],
   "source": [
    "#Overriding\n",
    "class Lsystem_Pifagor(LSystem):\n",
    "    def draw_turtle(self, start_pos, start_angle):\n",
    "        turtle.tracer(1, 0)     \n",
    "        self.t.up()                 \n",
    "        self.t.setpos(start_pos)    \n",
    "        self.t.seth(start_angle)    \n",
    "        self.t.down()\n",
    "        stack = list()\n",
    "        for move in self.state:\n",
    "            if move == '[':\n",
    "                stack.append(t.pos())\n",
    "                stack.append(t.heading())\n",
    "                self.t.left(self.angle)\n",
    "            elif move == ']':\n",
    "                t.up()\n",
    "                t.setheading(stack.pop())\n",
    "                t.setpos(stack.pop())\n",
    "                t.down()\n",
    "                self.t.right(self.angle)\n",
    "            else:\n",
    "                self.t.forward(self.length)"
   ]
  },
  {
   "cell_type": "code",
   "execution_count": 26,
   "metadata": {},
   "outputs": [
    {
     "name": "stdout",
     "output_type": "stream",
     "text": [
      "Время построения: --- 681 ms ---\n",
      "+------------------+-----------+\n",
      "| Глубина фрактала | Время, ms |\n",
      "+------------------+-----------+\n",
      "|        0         |     36    |\n",
      "|        1         |     38    |\n",
      "|        2         |     44    |\n",
      "|        3         |     61    |\n",
      "|        4         |    173    |\n",
      "+------------------+-----------+\n"
     ]
    }
   ],
   "source": [
    "try:\n",
    "    turtle.reset()\n",
    "except:\n",
    "    pass\n",
    "width = 1200\n",
    "height = 600\n",
    "screen = turtle.Screen()\n",
    "screen.setup(width, height, 0, 0)\n",
    "\n",
    "t = turtle.Turtle()\n",
    "t.ht()          \n",
    "\n",
    "pen_width = 2  \n",
    "f_len = 5    \n",
    "angle = 45  \n",
    "axiom = \"0\"\n",
    "\n",
    "l_sys = Lsystem_Pifagor(t, axiom, pen_width, f_len, angle)\n",
    "l_sys.add_rules((\"0\", \"1[0]0\"), (\"1\", \"11\"))\n",
    "l_sys.generate_path(6)                                         #ЗАДАТЬ ГЛУБИНУ РЕКУРСИИ\n",
    "start_time = time.time()\n",
    "l_sys.draw_turtle( (-500, 0), 0)\n",
    "duration = round((time.time() - start_time) * 1000)\n",
    "turtle.done()\n",
    "print(\"Время построения: \" + \"--- {0} ms ---\".format(duration))\n",
    "\n",
    "#Таблица\n",
    "td = [0, 36, 1, 38, 2, 44 , 3, 61, 4, 173 ] #Данные\n",
    "td_data = td[:]\n",
    "th = [\"Глубина фрактала\", \"Время, ms\"] #Шапка\n",
    "columns = len(th)\n",
    "table = PrettyTable(th)\n",
    "while td_data:\n",
    "    table.add_row(td_data[:2])\n",
    "    td_data = td_data[2:]\n",
    "print(table)"
   ]
  },
  {
   "cell_type": "markdown",
   "metadata": {
    "id": "diOb-K7LnO5a"
   },
   "source": [
    "### Вывод"
   ]
  },
  {
   "cell_type": "code",
   "execution_count": null,
   "metadata": {},
   "outputs": [],
   "source": []
  }
 ],
 "metadata": {
  "colab": {
   "collapsed_sections": [],
   "name": "Lab5.ipynb",
   "provenance": []
  },
  "kernelspec": {
   "display_name": "Python 3 (ipykernel)",
   "language": "python",
   "name": "python3"
  },
  "language_info": {
   "codemirror_mode": {
    "name": "ipython",
    "version": 3
   },
   "file_extension": ".py",
   "mimetype": "text/x-python",
   "name": "python",
   "nbconvert_exporter": "python",
   "pygments_lexer": "ipython3",
   "version": "3.9.7"
  }
 },
 "nbformat": 4,
 "nbformat_minor": 1
}
