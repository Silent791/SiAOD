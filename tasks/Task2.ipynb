{
 "cells": [
  {
   "cell_type": "markdown",
   "id": "arctic-stocks",
   "metadata": {},
   "source": [
    "### Задание №1\n",
    "Массив A состоит из целых положительных чисел длин отрезков. Составьте из трех отрезков такой треугольник, чтобы его периметр был максимально возможным. Если невозможно составить треугольник с положительной площадью функция возвращает 0."
   ]
  },
  {
   "cell_type": "code",
   "execution_count": 53,
   "id": "caring-truck",
   "metadata": {
    "scrolled": false
   },
   "outputs": [
    {
     "name": "stdout",
     "output_type": "stream",
     "text": [
      "10\n",
      "[10, 10, 1, 6, 9, 6, 1, 7, 7, 5]\n",
      "[10, 10, 9]\n"
     ]
    }
   ],
   "source": [
    "from random import randint\n",
    "import random\n",
    "user_n = input()\n",
    "def f(user_n):\n",
    "    p = 0\n",
    "    m = []\n",
    "    for i in range (int(user_n)):\n",
    "        randNumber = random.randint(1, 10)\n",
    "        m.append (randNumber)\n",
    "    print(m)\n",
    "    m.sort()\n",
    "    i = len(m) - 1\n",
    "    while (i - 2) >= 0:\n",
    "        a = m[i]\n",
    "        b = m[i - 1]\n",
    "        c = m[i - 2]\n",
    "        if (b + c) > a:\n",
    "            p = a + b + c\n",
    "            return [a, b, c]\n",
    "        i -= 1\n",
    "    if p == 0:\n",
    "        return(0)\n",
    "print(f(user_n))"
   ]
  },
  {
   "cell_type": "markdown",
   "id": "maritime-conversation",
   "metadata": {},
   "source": [
    "### Задание №2\n",
    "Дан массив неотрицательных целых чисел nums. Расположите их в таком порядке, чтобы вместе они образовали максимально возможное число. Замечание: Результат может быть очень большим числом, поэтому представьте его как string, а не integer."
   ]
  },
  {
   "cell_type": "code",
   "execution_count": 48,
   "id": "alert-charm",
   "metadata": {
    "scrolled": false
   },
   "outputs": [
    {
     "name": "stdout",
     "output_type": "stream",
     "text": [
      "[10, 991, 989, 98, 911, 900, 909, 9, 97, 979, 910, 1, 0, 9, 8, 8]\n",
      "[9, 9, 991, 989, 98, 979, 97, 911, 910, 909, 900, 8, 8, 1, 10, 0]\n",
      "999919899897997911910909900881100\n"
     ]
    }
   ],
   "source": [
    "def compare(x, y):\n",
    "    xy = str(x) + str(y)\n",
    "    yx = str(y) + str(x)\n",
    "    if (int(xy) < int(yx)):\n",
    "        return(True)\n",
    "    else:\n",
    "        return(False)\n",
    "    \n",
    "nums = [10, 991, 989, 98, 911, 900, 909, 9, 97, 979, 910, 1, 0, 9, 8, 8]\n",
    "print(nums)\n",
    "for i in range (len(nums) - 1):\n",
    "    for j in range (len(nums) - i - 1):\n",
    "        if compare(nums[j], nums[j + 1]):\n",
    "            nums[j], nums[j+1] = nums[j+1], nums[j]\n",
    "print(nums)\n",
    "number = \"\".join([str(i) for i in nums])\n",
    "print(number)"
   ]
  },
  {
   "cell_type": "markdown",
   "id": "catholic-roots",
   "metadata": {},
   "source": [
    "### Задание №3\n",
    "Дана матрица mat размером m * n, значения целочисленные. Напишите функцию, сортирующую каждую диагональ матрицы по возрастанию и возвращающую получившуюся матрицу."
   ]
  },
  {
   "cell_type": "code",
   "execution_count": 54,
   "id": "cleared-anniversary",
   "metadata": {
    "scrolled": false
   },
   "outputs": [
    {
     "name": "stdout",
     "output_type": "stream",
     "text": [
      "5\n",
      "5\n",
      "10\n",
      "99\n",
      "\n",
      "51 40 88 57 36 \n",
      "14 49 70 63 64 \n",
      "49 26 22 65 27 \n",
      "68 42 60 91 13 \n",
      "38 68 32 80 51 \n",
      "\n",
      "22 40 88 57 36 \n",
      "14 49 70 63 64 \n",
      "49 26 51 65 27 \n",
      "68 42 60 51 13 \n",
      "38 68 32 80 91 \n"
     ]
    }
   ],
   "source": [
    "import random\n",
    "import time\n",
    "from random import randint\n",
    "user_m = input()\n",
    "user_n = input()\n",
    "user_min_limit = input()\n",
    "user_max_limit = input()\n",
    "user_m, user_n, user_min_limit, user_max_limit\n",
    "print()\n",
    "\n",
    "def mgenerate(m, n, min_l, max_l):\n",
    "    mat = [] \n",
    "    for i in range (int(m)): \n",
    "        row=[]\n",
    "        for j in range (int(n)):\n",
    "            randNumber = random.randint(int(min_l), int(max_l))\n",
    "            row.append (randNumber)\n",
    "        mat.append(row)\n",
    "    return mat\n",
    "\n",
    "def mprint(mat):    \n",
    "    for i in range(0, len(mat)):\n",
    "        for j in range(0, len(mat[i])):\n",
    "            print(mat[i][j], end=' ')\n",
    "        print()\n",
    "\n",
    "def sort_diagonal(mat):\n",
    "    diagonal=[]\n",
    "    for i in range(len(mat)):\n",
    "        for j in range(len(mat[i])):\n",
    "            if i==j:\n",
    "                diagonal.append(mat[i][j])\n",
    "    diagonal.sort()\n",
    "    i=0\n",
    "    j=0\n",
    "    for k in range(len(diagonal)):\n",
    "        mat[i][j]=diagonal[k]\n",
    "        i+=1\n",
    "        j+=1\n",
    "    return mat\n",
    "\n",
    "mat = mgenerate(user_m, user_n, user_min_limit, user_max_limit)\n",
    "mprint(mat)\n",
    "print()\n",
    "mat = sort_diagonal(mat)\n",
    "mprint(mat)"
   ]
  },
  {
   "cell_type": "code",
   "execution_count": null,
   "id": "1b15c371",
   "metadata": {},
   "outputs": [],
   "source": []
  },
  {
   "cell_type": "code",
   "execution_count": null,
   "id": "3a5aa94d",
   "metadata": {},
   "outputs": [],
   "source": []
  }
 ],
 "metadata": {
  "kernelspec": {
   "display_name": "Python 3 (ipykernel)",
   "language": "python",
   "name": "python3"
  },
  "language_info": {
   "codemirror_mode": {
    "name": "ipython",
    "version": 3
   },
   "file_extension": ".py",
   "mimetype": "text/x-python",
   "name": "python",
   "nbconvert_exporter": "python",
   "pygments_lexer": "ipython3",
   "version": "3.9.7"
  }
 },
 "nbformat": 4,
 "nbformat_minor": 5
}
