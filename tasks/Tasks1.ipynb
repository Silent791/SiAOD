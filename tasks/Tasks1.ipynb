{
 "cells": [
  {
   "cell_type": "markdown",
   "id": "244314fb",
   "metadata": {},
   "source": [
    "# Задание 1"
   ]
  },
  {
   "cell_type": "markdown",
   "id": "64630386",
   "metadata": {},
   "source": [
    "Даны две строки: `s1` и `s2` с одинаковым размером.\n",
    "\n",
    "Проверьте, может ли некоторая перестановка строки `s1` “победить” некоторую перестановку строки `s2` или наоборот.\n",
    "\n",
    "Строка x может “победить” строку y (обе имеют размер n), если `x[i] >= y[i]` (в алфавитном порядке) для всех i от 0 до n-1.\n"
   ]
  },
  {
   "cell_type": "markdown",
   "id": "cf51dab2",
   "metadata": {},
   "source": [
    "## Ввод"
   ]
  },
  {
   "cell_type": "markdown",
   "id": "d697a747",
   "metadata": {},
   "source": [
    "`abc`\n",
    "`xya`"
   ]
  },
  {
   "cell_type": "markdown",
   "id": "50b10a2e",
   "metadata": {},
   "source": [
    "## Вывод"
   ]
  },
  {
   "cell_type": "markdown",
   "id": "55442a49",
   "metadata": {},
   "source": [
    "`True`\n",
    "\n",
    "### Исполняемый код записать в ячейку ниже:"
   ]
  },
  {
   "cell_type": "code",
   "execution_count": 3,
   "id": "3b0d440a",
   "metadata": {},
   "outputs": [
    {
     "name": "stdout",
     "output_type": "stream",
     "text": [
      "abc\n",
      "xya\n",
      "True\n"
     ]
    }
   ],
   "source": [
    "k = True\n",
    "s1 = input()\n",
    "s2 = input()\n",
    "l1 = list(s1)\n",
    "l2 = list(s2)\n",
    "l1.sort()\n",
    "l2.sort()\n",
    "for i in range(len(s1)):\n",
    "    if l1[i] > l2[i]:\n",
    "        k = False\n",
    "print (k)"
   ]
  },
  {
   "cell_type": "markdown",
   "id": "b3a969a6",
   "metadata": {},
   "source": [
    "# Задание 2"
   ]
  },
  {
   "cell_type": "markdown",
   "id": "9c1ce05d",
   "metadata": {},
   "source": [
    "Дана строка `s`, вернуть самую длинную полиндромную подстроку в `s`."
   ]
  },
  {
   "cell_type": "markdown",
   "id": "20415c0e",
   "metadata": {},
   "source": [
    "## Ввод"
   ]
  },
  {
   "cell_type": "markdown",
   "id": "e77fcb44",
   "metadata": {},
   "source": [
    "`babad`"
   ]
  },
  {
   "cell_type": "markdown",
   "id": "49996449",
   "metadata": {},
   "source": [
    "## Вывод"
   ]
  },
  {
   "cell_type": "markdown",
   "id": "75be2464",
   "metadata": {},
   "source": [
    "`aba` или `bab`"
   ]
  },
  {
   "cell_type": "markdown",
   "id": "12ef9771",
   "metadata": {},
   "source": [
    "## Исполняемый код записывать в ячейку ниже"
   ]
  },
  {
   "cell_type": "code",
   "execution_count": 56,
   "id": "3f06c4fc",
   "metadata": {},
   "outputs": [
    {
     "name": "stdout",
     "output_type": "stream",
     "text": [
      "babad\n",
      "bab aba "
     ]
    }
   ],
   "source": [
    "s = input()\n",
    "p = []\n",
    "l = list()\n",
    "for i in range (len(s)-1):\n",
    "    for j in range (i + 1, len(s)):\n",
    "        t = s[i:j+1]\n",
    "        if t == t[::-1]:\n",
    "            p.append(t)\n",
    "        elif p!=[]:\n",
    "            l.append(p)\n",
    "            p=[]\n",
    "max_l = len(\" \".join(l[0]))\n",
    "for i in range(len(l)):   #Находим самое большое значение длины палиндрома\n",
    "    if len(l[i]) > max_l:\n",
    "        max_l = len(l[i])\n",
    "        \n",
    "L = list()\n",
    "for j in range (len(l)):               #Формируем список самых длинных палиндромоыв \n",
    "    if len(\" \".join(l[j]))== max_l:\n",
    "        L.append(l[j])\n",
    "        \n",
    "result = []                           #Чтобы удалить повторяющиеся элементы, мы создадим временный список и добавим в него элементы только в том случае, если его нет.\n",
    "for i in L:\n",
    "    if i not in result:\n",
    "        result.append(i)\n",
    "\n",
    "for i in range (len(result)):              #Сделаем вывод в виде строки, а не в виде списка\n",
    "    print (\" \".join(result[i]), end=' ')"
   ]
  },
  {
   "cell_type": "markdown",
   "id": "5f54b630",
   "metadata": {},
   "source": [
    "# Задание 3"
   ]
  },
  {
   "cell_type": "markdown",
   "id": "566f1d3b",
   "metadata": {},
   "source": [
    "Вернуть количество отдельных непустых подстрок текста, которые могут быть записаны как конкатенация некоторой строки с самой собой (т.е. она может быть записана, как `a + a`, где `a` - некоторая строка)."
   ]
  },
  {
   "cell_type": "markdown",
   "id": "0f734fd8",
   "metadata": {},
   "source": [
    "## Ввод"
   ]
  },
  {
   "cell_type": "markdown",
   "id": "e0be5554",
   "metadata": {},
   "source": [
    "`aabb`"
   ]
  },
  {
   "cell_type": "markdown",
   "id": "ab8eda0b",
   "metadata": {},
   "source": [
    "## Вывод"
   ]
  },
  {
   "cell_type": "markdown",
   "id": "1d716d36",
   "metadata": {},
   "source": [
    "2"
   ]
  },
  {
   "cell_type": "markdown",
   "id": "fcd91349",
   "metadata": {},
   "source": [
    "## Исполняемый код записывать в ячейку ниже"
   ]
  },
  {
   "cell_type": "code",
   "execution_count": 62,
   "id": "be07379d",
   "metadata": {},
   "outputs": [],
   "source": [
    "def concat(s):\n",
    "    a = 0\n",
    "    b = 1\n",
    "    for i in range (len(s)-1):\n",
    "        while i+2*b <= len(s):\n",
    "            if s[i : i+b] == s[i+b : i+2*b]:\n",
    "                a += 1\n",
    "            b += 1\n",
    "        b = 1\n",
    "    return(a)"
   ]
  },
  {
   "cell_type": "code",
   "execution_count": 64,
   "id": "687c96cf",
   "metadata": {},
   "outputs": [
    {
     "name": "stdout",
     "output_type": "stream",
     "text": [
      "aabb\n",
      "2\n"
     ]
    }
   ],
   "source": [
    "s = input()\n",
    "print (concat(s))"
   ]
  },
  {
   "cell_type": "code",
   "execution_count": null,
   "id": "f72e8364",
   "metadata": {},
   "outputs": [],
   "source": []
  }
 ],
 "metadata": {
  "kernelspec": {
   "display_name": "Python 3 (ipykernel)",
   "language": "python",
   "name": "python3"
  },
  "language_info": {
   "codemirror_mode": {
    "name": "ipython",
    "version": 3
   },
   "file_extension": ".py",
   "mimetype": "text/x-python",
   "name": "python",
   "nbconvert_exporter": "python",
   "pygments_lexer": "ipython3",
   "version": "3.9.7"
  }
 },
 "nbformat": 4,
 "nbformat_minor": 5
}
